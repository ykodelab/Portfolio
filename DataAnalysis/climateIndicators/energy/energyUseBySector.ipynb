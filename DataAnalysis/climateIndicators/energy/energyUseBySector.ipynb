{
 "cells": [
  {
   "cell_type": "markdown",
   "id": "06e8f5a4-5fb7-44a4-a3c6-a4a11d2cffe4",
   "metadata": {},
   "source": [
    "## Household Energy Consumption:\n",
    "##### https://www150.statcan.gc.ca/t1/tbl1/en/tv.action?pid=2510006001&cubeTimeFrame.startYear=2011&cubeTimeFrame.endYear=2021&referencePeriods=20110101%2C20210101\n"
   ]
  },
  {
   "cell_type": "code",
   "execution_count": 49,
   "id": "b5192885-31d9-4ecb-b0fe-dc678c0a6510",
   "metadata": {},
   "outputs": [],
   "source": [
    "import pandas as pd"
   ]
  },
  {
   "cell_type": "code",
   "execution_count": 50,
   "id": "f132327e-de5b-428b-981e-6af75cd2406b",
   "metadata": {},
   "outputs": [],
   "source": [
    "df = pd.read_csv(\"table.csv\", delimiter = \";\")"
   ]
  },
  {
   "cell_type": "code",
   "execution_count": 51,
   "id": "be5c3545-2211-49fd-ba1b-5b191789b07e",
   "metadata": {},
   "outputs": [
    {
     "data": {
      "text/html": [
       "<div>\n",
       "<style scoped>\n",
       "    .dataframe tbody tr th:only-of-type {\n",
       "        vertical-align: middle;\n",
       "    }\n",
       "\n",
       "    .dataframe tbody tr th {\n",
       "        vertical-align: top;\n",
       "    }\n",
       "\n",
       "    .dataframe thead th {\n",
       "        text-align: right;\n",
       "    }\n",
       "</style>\n",
       "<table border=\"1\" class=\"dataframe\">\n",
       "  <thead>\n",
       "    <tr style=\"text-align: right;\">\n",
       "      <th></th>\n",
       "      <th>Household energy consumption, Canada and provinces 1</th>\n",
       "    </tr>\n",
       "  </thead>\n",
       "  <tbody>\n",
       "    <tr>\n",
       "      <th>0</th>\n",
       "      <td>Frequency: Every 2 years</td>\n",
       "    </tr>\n",
       "    <tr>\n",
       "      <th>1</th>\n",
       "      <td>Table: 25-10-0060-01 (formerly CANSIM 153-0161)</td>\n",
       "    </tr>\n",
       "    <tr>\n",
       "      <th>2</th>\n",
       "      <td>Release date: 2024-03-19</td>\n",
       "    </tr>\n",
       "    <tr>\n",
       "      <th>3</th>\n",
       "      <td>Geography: Canada, Province or territory</td>\n",
       "    </tr>\n",
       "    <tr>\n",
       "      <th>4</th>\n",
       "      <td>NaN</td>\n",
       "    </tr>\n",
       "    <tr>\n",
       "      <th>5</th>\n",
       "      <td>NaN</td>\n",
       "    </tr>\n",
       "    <tr>\n",
       "      <th>6</th>\n",
       "      <td>Geography,\"Energy type\",\"Energy consumption\",\"...</td>\n",
       "    </tr>\n",
       "    <tr>\n",
       "      <th>7</th>\n",
       "      <td>Canada,\"Total, all energy types\",\"Gigajoules\",...</td>\n",
       "    </tr>\n",
       "    <tr>\n",
       "      <th>8</th>\n",
       "      <td>,,\"Gigajoules per household\",\"93.3\",\"97.5\",\"92...</td>\n",
       "    </tr>\n",
       "    <tr>\n",
       "      <th>9</th>\n",
       "      <td>,,\"Proportion of total energy\",\"..\",\"..\",\"..\",...</td>\n",
       "    </tr>\n",
       "  </tbody>\n",
       "</table>\n",
       "</div>"
      ],
      "text/plain": [
       "  Household energy consumption, Canada and provinces 1\n",
       "0                           Frequency: Every 2 years  \n",
       "1    Table: 25-10-0060-01 (formerly CANSIM 153-0161)  \n",
       "2                           Release date: 2024-03-19  \n",
       "3           Geography: Canada, Province or territory  \n",
       "4                                                NaN  \n",
       "5                                                NaN  \n",
       "6  Geography,\"Energy type\",\"Energy consumption\",\"...  \n",
       "7  Canada,\"Total, all energy types\",\"Gigajoules\",...  \n",
       "8  ,,\"Gigajoules per household\",\"93.3\",\"97.5\",\"92...  \n",
       "9  ,,\"Proportion of total energy\",\"..\",\"..\",\"..\",...  "
      ]
     },
     "execution_count": 51,
     "metadata": {},
     "output_type": "execute_result"
    }
   ],
   "source": [
    "df.head(10)"
   ]
  },
  {
   "cell_type": "code",
   "execution_count": 59,
   "id": "d830664d-b07b-4339-97f3-230ff9d98f33",
   "metadata": {},
   "outputs": [],
   "source": [
    "df_head_cleaned = df.iloc[3:6].dropna()"
   ]
  },
  {
   "cell_type": "code",
   "execution_count": 60,
   "id": "486b033d-dfc9-4475-9fcb-493114e0cd81",
   "metadata": {},
   "outputs": [
    {
     "data": {
      "text/html": [
       "<div>\n",
       "<style scoped>\n",
       "    .dataframe tbody tr th:only-of-type {\n",
       "        vertical-align: middle;\n",
       "    }\n",
       "\n",
       "    .dataframe tbody tr th {\n",
       "        vertical-align: top;\n",
       "    }\n",
       "\n",
       "    .dataframe thead th {\n",
       "        text-align: right;\n",
       "    }\n",
       "</style>\n",
       "<table border=\"1\" class=\"dataframe\">\n",
       "  <thead>\n",
       "    <tr style=\"text-align: right;\">\n",
       "      <th></th>\n",
       "      <th>Household energy consumption, Canada and provinces 1</th>\n",
       "    </tr>\n",
       "  </thead>\n",
       "  <tbody>\n",
       "    <tr>\n",
       "      <th>3</th>\n",
       "      <td>Geography: Canada, Province or territory</td>\n",
       "    </tr>\n",
       "  </tbody>\n",
       "</table>\n",
       "</div>"
      ],
      "text/plain": [
       "  Household energy consumption, Canada and provinces 1\n",
       "3           Geography: Canada, Province or territory  "
      ]
     },
     "execution_count": 60,
     "metadata": {},
     "output_type": "execute_result"
    }
   ],
   "source": [
    "df_head_cleaned"
   ]
  },
  {
   "cell_type": "code",
   "execution_count": null,
   "id": "7a628f30-8c49-4444-900b-c522e8ef17c7",
   "metadata": {},
   "outputs": [],
   "source": []
  }
 ],
 "metadata": {
  "kernelspec": {
   "display_name": "Python 3 (ipykernel)",
   "language": "python",
   "name": "python3"
  },
  "language_info": {
   "codemirror_mode": {
    "name": "ipython",
    "version": 3
   },
   "file_extension": ".py",
   "mimetype": "text/x-python",
   "name": "python",
   "nbconvert_exporter": "python",
   "pygments_lexer": "ipython3",
   "version": "3.13.2"
  }
 },
 "nbformat": 4,
 "nbformat_minor": 5
}
